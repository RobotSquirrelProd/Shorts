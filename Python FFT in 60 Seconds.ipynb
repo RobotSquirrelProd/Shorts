{
 "cells": [
  {
   "cell_type": "markdown",
   "id": "00beeb0d",
   "metadata": {},
   "source": [
    "### FFT in 60 seconds"
   ]
  },
  {
   "cell_type": "markdown",
   "id": "0211b4d7",
   "metadata": {},
   "source": [
    "#### Import the libraries we need"
   ]
  },
  {
   "cell_type": "code",
   "execution_count": 1,
   "id": "a27ff9dc",
   "metadata": {},
   "outputs": [],
   "source": [
    "from scipy.fft import rfft, rfftfreq\n",
    "import matplotlib.pyplot as plt\n",
    "import numpy as np\n",
    "import math"
   ]
  },
  {
   "cell_type": "markdown",
   "id": "4b6a265c",
   "metadata": {},
   "source": [
    "In case the libraries are not installed"
   ]
  },
  {
   "cell_type": "code",
   "execution_count": 2,
   "id": "2608cc71",
   "metadata": {},
   "outputs": [],
   "source": [
    "#import sys\n",
    "#!conda install --yes --prefix {sys.prefix} numpy"
   ]
  },
  {
   "cell_type": "markdown",
   "id": "965f17d2",
   "metadata": {},
   "source": [
    "#### Plot in Interactive mode"
   ]
  },
  {
   "cell_type": "code",
   "execution_count": 3,
   "id": "de58350d",
   "metadata": {},
   "outputs": [],
   "source": [
    "%matplotlib widget"
   ]
  },
  {
   "cell_type": "markdown",
   "id": "023187fe",
   "metadata": {},
   "source": [
    "#### Synthesize a signal\n",
    "d_fs -- Sampling frequency, hertz <br>\n",
    "d_time -- Time series, seconds <br>\n",
    "d_f_sig -- Signal sunsoidal freqeuncy, hertz <br>\n",
    "d_sig -- Signal itself"
   ]
  },
  {
   "cell_type": "code",
   "execution_count": 4,
   "id": "81f6cb5a",
   "metadata": {},
   "outputs": [],
   "source": [
    "d_fs = 2048\n",
    "i_ns = (2*d_fs)\n",
    "d_time = np.linspace(0, (i_ns-1), i_ns)/d_fs\n",
    "d_f_sig = 10.\n",
    "d_amp = 1.0\n",
    "d_sig = d_amp * np.sin(2* math.pi * d_time *d_f_sig)"
   ]
  },
  {
   "cell_type": "markdown",
   "id": "92011539",
   "metadata": {},
   "source": [
    "Visualize the timebase waveform"
   ]
  },
  {
   "cell_type": "code",
   "execution_count": 5,
   "id": "c4073423",
   "metadata": {},
   "outputs": [
    {
     "data": {
      "application/vnd.jupyter.widget-view+json": {
       "model_id": "e6b9b30ed50746ffbdfb1b9e58cbcca7",
       "version_major": 2,
       "version_minor": 0
      },
      "text/plain": [
       "Canvas(toolbar=Toolbar(toolitems=[('Home', 'Reset original view', 'home', 'home'), ('Back', 'Back to previous …"
      ]
     },
     "metadata": {},
     "output_type": "display_data"
    }
   ],
   "source": [
    "plt.figure()\n",
    "plt.plot(d_time, d_sig)\n",
    "plt.xlabel('Time, seconds')\n",
    "plt.xlim([d_time[0], d_time[-1] ])\n",
    "plt.ylabel('Amplitude, -')\n",
    "plt.ylim([-1.5, 1.5])\n",
    "plt.title('Sin wave')\n",
    "plt.grid()\n",
    "\n",
    "figure = plt.gcf()\n",
    "figure.set_size_inches(4*1.6, 4)\n",
    "plt.savefig('Timebase.pdf')"
   ]
  },
  {
   "cell_type": "markdown",
   "id": "b62a57ab",
   "metadata": {},
   "source": [
    "Next, we will calculated the single-sided FFT and plot that out"
   ]
  },
  {
   "cell_type": "code",
   "execution_count": 6,
   "id": "942a76fa",
   "metadata": {},
   "outputs": [],
   "source": [
    "cx_y = rfft(d_sig)/float(i_ns/2.)\n",
    "d_ws = rfftfreq(i_ns,1./d_fs)"
   ]
  },
  {
   "cell_type": "code",
   "execution_count": 7,
   "id": "d02d2429",
   "metadata": {},
   "outputs": [
    {
     "data": {
      "application/vnd.jupyter.widget-view+json": {
       "model_id": "a0190cbfca19457da91c67f21d2b61fc",
       "version_major": 2,
       "version_minor": 0
      },
      "text/plain": [
       "Canvas(toolbar=Toolbar(toolitems=[('Home', 'Reset original view', 'home', 'home'), ('Back', 'Back to previous …"
      ]
     },
     "metadata": {},
     "output_type": "display_data"
    }
   ],
   "source": [
    "plt.figure()\n",
    "plt.plot(d_ws, abs(cx_y))\n",
    "plt.grid()\n",
    "plt.plot(d_f_sig, d_amp, 'ok')\n",
    "plt.xlabel('Frequency, hertz')\n",
    "plt.ylabel('Amplitude, -')\n",
    "plt.title('Signal spectrum')\n",
    "plt.annotate('Peak', [20., 0.95])\n",
    "\n",
    "figure = plt.gcf()\n",
    "figure.set_size_inches(4*1.6, 4)\n",
    "plt.savefig('Spectrum.pdf')"
   ]
  }
 ],
 "metadata": {
  "kernelspec": {
   "display_name": "Python 3 (ipykernel)",
   "language": "python",
   "name": "python3"
  },
  "language_info": {
   "codemirror_mode": {
    "name": "ipython",
    "version": 3
   },
   "file_extension": ".py",
   "mimetype": "text/x-python",
   "name": "python",
   "nbconvert_exporter": "python",
   "pygments_lexer": "ipython3",
   "version": "3.8.11"
  }
 },
 "nbformat": 4,
 "nbformat_minor": 5
}
