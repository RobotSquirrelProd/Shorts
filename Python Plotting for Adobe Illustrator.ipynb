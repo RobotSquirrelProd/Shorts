{
 "cells": [
  {
   "cell_type": "markdown",
   "id": "c17be071",
   "metadata": {},
   "source": [
    "# Python Plotting for Adobe Illustrator"
   ]
  },
  {
   "cell_type": "markdown",
   "id": "91e23bb4",
   "metadata": {},
   "source": [
    "Bring in the libraries we plan to use"
   ]
  },
  {
   "cell_type": "code",
   "execution_count": 1,
   "id": "b1a2e2f9",
   "metadata": {},
   "outputs": [],
   "source": [
    "import numpy as np\n",
    "import matplotlib.pyplot as plt\n",
    "import matplotlib.font_manager as fm\n",
    "import matplotlib"
   ]
  },
  {
   "cell_type": "code",
   "execution_count": 2,
   "id": "33a2556a",
   "metadata": {},
   "outputs": [],
   "source": [
    "%matplotlib inline"
   ]
  },
  {
   "cell_type": "code",
   "execution_count": 3,
   "id": "97dffbf0",
   "metadata": {},
   "outputs": [],
   "source": [
    "plt.rc('font', family='arial')\n",
    "plt.rcParams.update({'font.size': 12})"
   ]
  },
  {
   "cell_type": "code",
   "execution_count": 4,
   "id": "68e7f2cd",
   "metadata": {},
   "outputs": [],
   "source": [
    "# Install a pip package in the current Jupyter kernel\n",
    "#import sys\n",
    "#!{sys.executable} -m pip install pycairo"
   ]
  },
  {
   "cell_type": "code",
   "execution_count": 5,
   "id": "b9159d4f",
   "metadata": {},
   "outputs": [],
   "source": [
    "# Install a conda package in the current Jupyter kernel\n",
    "#import sys\n",
    "#!conda install --yes --prefix {sys.prefix} pycairo"
   ]
  },
  {
   "cell_type": "code",
   "execution_count": 6,
   "id": "72cd2aa7",
   "metadata": {},
   "outputs": [],
   "source": [
    "font = fm.FontProperties(family = 'arial')"
   ]
  },
  {
   "cell_type": "code",
   "execution_count": 7,
   "id": "726e9278",
   "metadata": {},
   "outputs": [],
   "source": [
    "fs_hz = 6400\n",
    "d_f_sig = 10\n",
    "i_cycles = 2\n",
    "d_t_end = ( i_cycles / d_f_sig )\n",
    "i_ns = round( fs_hz * d_t_end )\n",
    "d_time = np.linspace(0, d_t_end, i_ns)\n",
    "d_amp_sin = 1.0\n",
    "d_sig_sin = d_amp_sin * np.sin(2 * np.pi * d_f_sig * d_time)"
   ]
  },
  {
   "cell_type": "code",
   "execution_count": 8,
   "id": "b153f7e1",
   "metadata": {},
   "outputs": [],
   "source": [
    "d_xticks_major = np.linspace(0, i_cycles, (i_cycles+1))/d_f_sig\n",
    "d_xticks_minor = np.linspace(0, i_cycles, (5*i_cycles+1))/(d_f_sig)"
   ]
  },
  {
   "cell_type": "code",
   "execution_count": 9,
   "id": "fe469eea",
   "metadata": {},
   "outputs": [],
   "source": [
    "d_yticks_major = np.linspace(-d_amp_sin, d_amp_sin, 5)\n",
    "d_yticks_minor = np.linspace(-d_amp_sin, d_amp_sin, 10)"
   ]
  },
  {
   "cell_type": "code",
   "execution_count": 10,
   "id": "92dcc56b",
   "metadata": {},
   "outputs": [],
   "source": [
    "matplotlib.use('cairo')"
   ]
  },
  {
   "cell_type": "code",
   "execution_count": 11,
   "id": "7ed9d9a5",
   "metadata": {},
   "outputs": [
    {
     "name": "stderr",
     "output_type": "stream",
     "text": [
      "C:\\Users\\Rainy\\AppData\\Local\\Temp/ipykernel_22928/3446325398.py:21: UserWarning: Matplotlib is currently using cairo, which is a non-GUI backend, so cannot show the figure.\n",
      "  plt.show()\n"
     ]
    }
   ],
   "source": [
    "plt.rcParams['figure.figsize'] = [10, 4]\n",
    "plt.plot(d_time, d_sig_sin, 'r')\n",
    "plt.minorticks_on()\n",
    "\n",
    "plt.ylabel('Amplitude, g''s')\n",
    "plt.yticks(d_yticks_minor, [], minor=True)\n",
    "plt.yticks(d_yticks_major, d_yticks_major, minor=False)\n",
    "\n",
    "plt.xlabel('Time, seconds')\n",
    "plt.xticks(d_xticks_major, d_xticks_major, minor=False)\n",
    "plt.xticks(d_xticks_minor, [], minor=True)\n",
    "\n",
    "plt.grid(axis='both', which ='minor', linestyle=\":\")\n",
    "plt.grid(axis='both', which ='major', linestyle=\"-\")\n",
    "\n",
    "plt.title('Single Component', fontproperties = font)\n",
    "\n",
    "plt.savefig(\"Pane01.pdf\")\n",
    "plt.savefig(\"Pane01.svg\")\n",
    "\n",
    "plt.show()"
   ]
  },
  {
   "cell_type": "code",
   "execution_count": null,
   "id": "f41e28ff",
   "metadata": {},
   "outputs": [],
   "source": []
  }
 ],
 "metadata": {
  "kernelspec": {
   "display_name": "Python 3 (ipykernel)",
   "language": "python",
   "name": "python3"
  },
  "language_info": {
   "codemirror_mode": {
    "name": "ipython",
    "version": 3
   },
   "file_extension": ".py",
   "mimetype": "text/x-python",
   "name": "python",
   "nbconvert_exporter": "python",
   "pygments_lexer": "ipython3",
   "version": "3.13.6"
  }
 },
 "nbformat": 4,
 "nbformat_minor": 5
}
