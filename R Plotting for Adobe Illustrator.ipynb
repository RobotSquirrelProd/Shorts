{
 "cells": [
  {
   "cell_type": "markdown",
   "metadata": {},
   "source": [
    "# Test Savitsky-Golay  Test Waveforms"
   ]
  },
  {
   "cell_type": "markdown",
   "metadata": {},
   "source": [
    "This notebook reads in the test waveform and applys the scipy savitsky-golay filter."
   ]
  },
  {
   "cell_type": "markdown",
   "metadata": {},
   "source": [
    "# Setup"
   ]
  },
  {
   "cell_type": "markdown",
   "metadata": {},
   "source": [
    "## Define plot defaults"
   ]
  },
  {
   "cell_type": "code",
   "execution_count": 1,
   "metadata": {},
   "outputs": [],
   "source": [
    "options(repr.plot.width = 10, repr.plot.height = 4)"
   ]
  },
  {
   "cell_type": "markdown",
   "metadata": {},
   "source": [
    "## Import libraries"
   ]
  },
  {
   "cell_type": "code",
   "execution_count": 2,
   "metadata": {},
   "outputs": [],
   "source": [
    "#install.packages(\"signal\")"
   ]
  },
  {
   "cell_type": "code",
   "execution_count": 3,
   "metadata": {},
   "outputs": [
    {
     "name": "stderr",
     "output_type": "stream",
     "text": [
      "\n",
      "Attaching package: 'signal'\n",
      "\n",
      "\n",
      "The following objects are masked from 'package:stats':\n",
      "\n",
      "    filter, poly\n",
      "\n",
      "\n"
     ]
    }
   ],
   "source": [
    "library(signal)"
   ]
  },
  {
   "cell_type": "markdown",
   "metadata": {},
   "source": [
    "# Create the signals"
   ]
  },
  {
   "cell_type": "markdown",
   "metadata": {},
   "source": [
    "Define the signal features (imported from Python)"
   ]
  },
  {
   "cell_type": "code",
   "execution_count": 4,
   "metadata": {},
   "outputs": [],
   "source": [
    "fs_hz    <- 6400             # sample rate [Hz]\n",
    "d_f_sig  <- 10               # signal frequency [Hz]\n",
    "i_cycles <- 5                # number of cycles\n",
    "d_t_end  <- i_cycles / d_f_sig\n",
    "i_ns     <- round(fs_hz * d_t_end)"
   ]
  },
  {
   "cell_type": "code",
   "execution_count": 5,
   "metadata": {},
   "outputs": [],
   "source": [
    "# Time vector\n",
    "d_time <- seq(0, d_t_end, length.out = i_ns)\n",
    "\n",
    "# Signal amplitude\n",
    "d_amp_sin <- 1.0\n",
    "\n",
    "# Generate noisy sine wave\n",
    "set.seed(0)  # for reproducibility\n",
    "d_sig_sin <- d_amp_sin * sin(2 * pi * d_f_sig * d_time) "
   ]
  },
  {
   "cell_type": "markdown",
   "metadata": {},
   "source": [
    "## Plot the signals"
   ]
  },
  {
   "cell_type": "markdown",
   "metadata": {},
   "source": [
    "Compute major/minor ticks (same logic as Python)"
   ]
  },
  {
   "cell_type": "code",
   "execution_count": 6,
   "metadata": {},
   "outputs": [
    {
     "name": "stdout",
     "output_type": "stream",
     "text": [
      "[1] 0.00 0.05 0.10 0.15 0.20 0.25\n",
      "[1] -1.0 -0.5  0.0  0.5  1.0\n",
      "[1] -1.00 -0.75 -0.50 -0.25  0.00  0.25  0.50  0.75  1.00\n"
     ]
    }
   ],
   "source": [
    "d_xticks_major <- seq(0, i_cycles, by = 1) / ( 2 * d_f_sig)\n",
    "print(d_xticks_major)\n",
    "d_xticks_minor <- seq(0, i_cycles, by = 0.2) / d_f_sig\n",
    "\n",
    "d_yticks_major <- seq(-d_amp_sin, d_amp_sin, length.out = 5)\n",
    "print(d_yticks_major)\n",
    "d_yticks_minor <- seq(-d_amp_sin, d_amp_sin, length.out = 9)\n",
    "print(d_yticks_minor)"
   ]
  },
  {
   "cell_type": "markdown",
   "metadata": {},
   "source": [
    "Uncomment this line to save to a file"
   ]
  },
  {
   "cell_type": "code",
   "execution_count": 7,
   "metadata": {},
   "outputs": [],
   "source": [
    "pdf(\"Pane01.pdf\", width = 10, height = 4, useDingbats = FALSE)"
   ]
  },
  {
   "cell_type": "code",
   "execution_count": 8,
   "metadata": {},
   "outputs": [
    {
     "data": {
      "text/html": [
       "<strong>pdf:</strong> 3"
      ],
      "text/latex": [
       "\\textbf{pdf:} 3"
      ],
      "text/markdown": [
       "**pdf:** 3"
      ],
      "text/plain": [
       "pdf \n",
       "  3 "
      ]
     },
     "metadata": {},
     "output_type": "display_data"
    },
    {
     "data": {
      "image/png": "[encoded data removed]",
      "text/plain": [
       "Plot with title \"Test signal\""
      ]
     },
     "metadata": {
      "image/png": {
       "height": 240,
       "width": 600
      }
     },
     "output_type": "display_data"
    }
   ],
   "source": [
    "# --- Plot styling ---\n",
    "par(family = \"sans\",  # Arial equivalent on most systems\n",
    "    mar = c(4.5, 4.5, 3.5, 1.0),\n",
    "    mgp = c(2.5, 0.7, 0),\n",
    "    cex.lab = 1.2,\n",
    "    cex.axis = 1.0,\n",
    "    cex.main = 1.2,\n",
    "    las = 1)\n",
    "\n",
    "# --- Explicitly start a new plot region ---\n",
    "plot.new()\n",
    "\n",
    "# --- Set up the coordinate system (no data drawn yet) ---\n",
    "plot.window(xlim = c(-0.01, 0.51),\n",
    "            ylim = c(-d_amp_sin*1.25, d_amp_sin*1.25))\n",
    "\n",
    "# --- Draw axes and labels manually ---\n",
    "title(main = \"Test signal\",\n",
    "      xlab = \"Time, seconds\",\n",
    "      ylab = \"Amplitude, volts\")\n",
    "\n",
    "# --- Add gridlines ---\n",
    "# Major gridlines (solid)\n",
    "abline(h = d_yticks_major, col = \"gray80\", lty = 1)\n",
    "abline(v = d_xticks_major, col = \"gray80\", lty = 1)\n",
    "\n",
    "# Minor gridlines (dotted)\n",
    "abline(h = d_yticks_minor, col = \"gray90\", lty = 3)\n",
    "abline(v = d_xticks_minor, col = \"gray90\", lty = 3)\n",
    "\n",
    "# --- Draw signals ---\n",
    "lines(d_time, d_sig_sin, col = \"#E13C30\", lwd = 1.0)     # raw signal (red)\n",
    "\n",
    "# --- Add major/minor tick marks and labels ---\n",
    "axis(side = 1, at = d_xticks_major,\n",
    "     labels = formatC(d_xticks_major, digits = 1, format = \"f\"))\n",
    "axis(side = 1, at = d_xticks_minor, labels = FALSE, tcl = -0.25)\n",
    "\n",
    "axis(side = 2, at = d_yticks_major,\n",
    "     labels = formatC(d_yticks_major, digits = 1, format = \"f\"))\n",
    "axis(side = 2, at = d_yticks_minor, labels = FALSE, tcl = -0.25)\n",
    "\n",
    "# --- Add legend ---\n",
    "legend(\"topright\",\n",
    "       legend = c(\"Raw\", \"Smoothed\"),\n",
    "       col = c(\"#E13C30\", \"#0072B2\"),\n",
    "       lwd = c(1.0, 1.5),\n",
    "       bty = \"n\")\n",
    "\n",
    "dev.off()\n"
   ]
  },
  {
   "cell_type": "code",
   "execution_count": null,
   "metadata": {},
   "outputs": [],
   "source": []
  }
 ],
 "metadata": {
  "kernelspec": {
   "display_name": "R",
   "language": "R",
   "name": "ir"
  },
  "language_info": {
   "codemirror_mode": "r",
   "file_extension": ".r",
   "mimetype": "text/x-r-source",
   "name": "R",
   "pygments_lexer": "r",
   "version": "4.5.1"
  }
 },
 "nbformat": 4,
 "nbformat_minor": 4
}
