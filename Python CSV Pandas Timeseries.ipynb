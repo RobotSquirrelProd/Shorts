{
 "cells": [
  {
   "cell_type": "markdown",
   "id": "e25ed657",
   "metadata": {},
   "source": [
    "# Timeseries analysis of a CSV file in Python and Pandas"
   ]
  },
  {
   "cell_type": "markdown",
   "id": "2568966e",
   "metadata": {},
   "source": [
    "## Introduction and setup"
   ]
  },
  {
   "cell_type": "markdown",
   "id": "ce448f72",
   "metadata": {},
   "source": [
    "More content like this can be found at [robotsquirrelproductions.com](https://robotsquirrelproductions.com/)"
   ]
  },
  {
   "cell_type": "markdown",
   "id": "9ba9df3e",
   "metadata": {},
   "source": [
    "The lines below document the version of python used in this example"
   ]
  },
  {
   "cell_type": "code",
   "execution_count": 1,
   "id": "a9859d45",
   "metadata": {},
   "outputs": [
    {
     "name": "stdout",
     "output_type": "stream",
     "text": [
      "3.8.16 (default, Mar  2 2023, 03:18:16) [MSC v.1916 64 bit (AMD64)]\n"
     ]
    }
   ],
   "source": [
    "import sys\n",
    "print(sys.version)"
   ]
  },
  {
   "cell_type": "markdown",
   "id": "d9df8c60",
   "metadata": {},
   "source": [
    "Import the libraries we need"
   ]
  },
  {
   "cell_type": "code",
   "execution_count": 2,
   "id": "9c4e9ab1",
   "metadata": {},
   "outputs": [],
   "source": [
    "import pandas as pd\n",
    "import csv\n",
    "import matplotlib.pyplot as plt\n",
    "import matplotlib\n",
    "from datetime import datetime, timedelta\n",
    "import numpy as np"
   ]
  },
  {
   "cell_type": "markdown",
   "id": "843842cd",
   "metadata": {},
   "source": [
    "## Import the file metadata"
   ]
  },
  {
   "cell_type": "markdown",
   "id": "3a9aff66",
   "metadata": {},
   "source": [
    "Define the filename"
   ]
  },
  {
   "cell_type": "code",
   "execution_count": 3,
   "id": "c29fb6fa",
   "metadata": {},
   "outputs": [],
   "source": [
    "str_filename = 'test_001_000.csv'"
   ]
  },
  {
   "cell_type": "markdown",
   "id": "c3bfc783",
   "metadata": {},
   "source": [
    "Open the file and instantiate the csv reader"
   ]
  },
  {
   "cell_type": "code",
   "execution_count": 4,
   "id": "a9e91cbd",
   "metadata": {},
   "outputs": [],
   "source": [
    "fh = open(str_filename)\n",
    "csv_reader = csv.reader(fh)"
   ]
  },
  {
   "cell_type": "markdown",
   "id": "58877370",
   "metadata": {},
   "source": [
    "Read in the header labels"
   ]
  },
  {
   "cell_type": "code",
   "execution_count": 5,
   "id": "edc830e8",
   "metadata": {},
   "outputs": [
    {
     "data": {
      "text/plain": [
       "['X', 'CH1', 'CH2']"
      ]
     },
     "execution_count": 5,
     "metadata": {},
     "output_type": "execute_result"
    }
   ],
   "source": [
    "csv_header = next(csv_reader)\n",
    "csv_header"
   ]
  },
  {
   "cell_type": "markdown",
   "id": "33a8068c",
   "metadata": {},
   "source": [
    "Read in the dates, first as a string, then convert to a `datetime`"
   ]
  },
  {
   "cell_type": "code",
   "execution_count": 6,
   "id": "8f305958",
   "metadata": {},
   "outputs": [
    {
     "data": {
      "text/plain": [
       "['Date and Time',\n",
       " '2021-12-09 05:36:10.782-08:00',\n",
       " '2021-12-09 05:36:10.782-08:00']"
      ]
     },
     "execution_count": 6,
     "metadata": {},
     "output_type": "execute_result"
    }
   ],
   "source": [
    "lst_dt_csv = next(csv_reader)\n",
    "lst_dt_csv"
   ]
  },
  {
   "cell_type": "code",
   "execution_count": 7,
   "id": "dc76df54",
   "metadata": {},
   "outputs": [
    {
     "data": {
      "text/plain": [
       "array([datetime.datetime(2021, 12, 9, 5, 36, 10, 782000, tzinfo=datetime.timezone(datetime.timedelta(days=-1, seconds=57600))),\n",
       "       datetime.datetime(2021, 12, 9, 5, 36, 10, 782000, tzinfo=datetime.timezone(datetime.timedelta(days=-1, seconds=57600)))],\n",
       "      dtype=object)"
      ]
     },
     "execution_count": 7,
     "metadata": {},
     "output_type": "execute_result"
    }
   ],
   "source": [
    "dt_csv = np.array(list(map(datetime.fromisoformat, lst_dt_csv[1:3])))\n",
    "dt_csv"
   ]
  },
  {
   "cell_type": "markdown",
   "id": "28bae95f",
   "metadata": {},
   "source": [
    "Read in the sampling frequency"
   ]
  },
  {
   "cell_type": "code",
   "execution_count": 8,
   "id": "6e1ac2c3",
   "metadata": {},
   "outputs": [
    {
     "data": {
      "text/plain": [
       "array([1305.625068, 1305.625068])"
      ]
     },
     "execution_count": 8,
     "metadata": {},
     "output_type": "execute_result"
    }
   ],
   "source": [
    "lst_fs = next(csv_reader)\n",
    "np_d_fs = np.array(list(map(float, lst_fs[1:3])))\n",
    "np_d_fs"
   ]
  },
  {
   "cell_type": "markdown",
   "id": "d5d61d8c",
   "metadata": {},
   "source": [
    "Close the file"
   ]
  },
  {
   "cell_type": "code",
   "execution_count": 9,
   "id": "34672d56",
   "metadata": {},
   "outputs": [],
   "source": [
    "fh.close()"
   ]
  },
  {
   "cell_type": "markdown",
   "id": "63c89746",
   "metadata": {},
   "source": [
    "## Construct the dataframe"
   ]
  },
  {
   "cell_type": "markdown",
   "id": "dd326a48",
   "metadata": {},
   "source": [
    "Read in the data frame"
   ]
  },
  {
   "cell_type": "code",
   "execution_count": 10,
   "id": "b74dffeb",
   "metadata": {},
   "outputs": [
    {
     "data": {
      "text/html": [
       "<div>\n",
       "<style scoped>\n",
       "    .dataframe tbody tr th:only-of-type {\n",
       "        vertical-align: middle;\n",
       "    }\n",
       "\n",
       "    .dataframe tbody tr th {\n",
       "        vertical-align: top;\n",
       "    }\n",
       "\n",
       "    .dataframe thead th {\n",
       "        text-align: right;\n",
       "    }\n",
       "</style>\n",
       "<table border=\"1\" class=\"dataframe\">\n",
       "  <thead>\n",
       "    <tr style=\"text-align: right;\">\n",
       "      <th></th>\n",
       "      <th>X</th>\n",
       "      <th>CH1</th>\n",
       "      <th>CH2</th>\n",
       "    </tr>\n",
       "  </thead>\n",
       "  <tbody>\n",
       "    <tr>\n",
       "      <th>0</th>\n",
       "      <td>0</td>\n",
       "      <td>0.05</td>\n",
       "      <td>-0.024</td>\n",
       "    </tr>\n",
       "    <tr>\n",
       "      <th>1</th>\n",
       "      <td>1</td>\n",
       "      <td>0.02</td>\n",
       "      <td>0.048</td>\n",
       "    </tr>\n",
       "    <tr>\n",
       "      <th>2</th>\n",
       "      <td>2</td>\n",
       "      <td>0.02</td>\n",
       "      <td>-0.008</td>\n",
       "    </tr>\n",
       "    <tr>\n",
       "      <th>3</th>\n",
       "      <td>3</td>\n",
       "      <td>0.06</td>\n",
       "      <td>0.064</td>\n",
       "    </tr>\n",
       "    <tr>\n",
       "      <th>4</th>\n",
       "      <td>4</td>\n",
       "      <td>0.02</td>\n",
       "      <td>0.136</td>\n",
       "    </tr>\n",
       "    <tr>\n",
       "      <th>...</th>\n",
       "      <td>...</td>\n",
       "      <td>...</td>\n",
       "      <td>...</td>\n",
       "    </tr>\n",
       "    <tr>\n",
       "      <th>1195</th>\n",
       "      <td>1195</td>\n",
       "      <td>-0.01</td>\n",
       "      <td>-0.112</td>\n",
       "    </tr>\n",
       "    <tr>\n",
       "      <th>1196</th>\n",
       "      <td>1196</td>\n",
       "      <td>0.00</td>\n",
       "      <td>-0.024</td>\n",
       "    </tr>\n",
       "    <tr>\n",
       "      <th>1197</th>\n",
       "      <td>1197</td>\n",
       "      <td>0.04</td>\n",
       "      <td>-0.080</td>\n",
       "    </tr>\n",
       "    <tr>\n",
       "      <th>1198</th>\n",
       "      <td>1198</td>\n",
       "      <td>-0.01</td>\n",
       "      <td>-0.008</td>\n",
       "    </tr>\n",
       "    <tr>\n",
       "      <th>1199</th>\n",
       "      <td>1199</td>\n",
       "      <td>0.03</td>\n",
       "      <td>-0.088</td>\n",
       "    </tr>\n",
       "  </tbody>\n",
       "</table>\n",
       "<p>1200 rows × 3 columns</p>\n",
       "</div>"
      ],
      "text/plain": [
       "         X   CH1    CH2\n",
       "0        0  0.05 -0.024\n",
       "1        1  0.02  0.048\n",
       "2        2  0.02 -0.008\n",
       "3        3  0.06  0.064\n",
       "4        4  0.02  0.136\n",
       "...    ...   ...    ...\n",
       "1195  1195 -0.01 -0.112\n",
       "1196  1196  0.00 -0.024\n",
       "1197  1197  0.04 -0.080\n",
       "1198  1198 -0.01 -0.008\n",
       "1199  1199  0.03 -0.088\n",
       "\n",
       "[1200 rows x 3 columns]"
      ]
     },
     "execution_count": 10,
     "metadata": {},
     "output_type": "execute_result"
    }
   ],
   "source": [
    "df_sig = pd.read_csv(str_filename, header=None, skiprows=5, names=csv_header)\n",
    "df_sig"
   ]
  },
  {
   "cell_type": "markdown",
   "id": "9f70d6e0",
   "metadata": {},
   "source": [
    "## Plot the dataframe data"
   ]
  },
  {
   "cell_type": "markdown",
   "id": "9b080d15",
   "metadata": {},
   "source": [
    "Display the signal in channel 1"
   ]
  },
  {
   "cell_type": "code",
   "execution_count": 11,
   "id": "c148eaab",
   "metadata": {},
   "outputs": [
    {
     "data": {
      "image/png": "[encoded data removed]",
      "text/plain": [
       "<Figure size 640x400 with 1 Axes>"
      ]
     },
     "metadata": {},
     "output_type": "display_data"
    }
   ],
   "source": [
    "df_sig.CH1.plot()\n",
    "plt.xlabel('Sample number')\n",
    "plt.xlim([0, 1200])\n",
    "plt.ylabel('Signal value, volts')\n",
    "plt.ylim([-0.5, 0.5])\n",
    "plt.title('CSV data')\n",
    "plt.grid()\n",
    "\n",
    "\n",
    "figure = plt.gcf()\n",
    "figure.set_size_inches(4*1.6, 4)\n",
    "plt.savefig('CSV Visualization.pdf')"
   ]
  },
  {
   "cell_type": "markdown",
   "id": "fd445937",
   "metadata": {},
   "source": [
    "## Add elapsed time series to the Pandas dataframe"
   ]
  },
  {
   "cell_type": "markdown",
   "id": "4c6161fd",
   "metadata": {},
   "source": [
    "In this section we add another column with the elapsed time in seconds. This will be helpful for plotting and future analysis."
   ]
  },
  {
   "cell_type": "markdown",
   "id": "af65792d",
   "metadata": {},
   "source": [
    "Begin by constructing a numpy array with elapsed time in seconds from the number of samples and adding  that to our dataframe. This example assumes the sampling rate is the same for both series."
   ]
  },
  {
   "cell_type": "code",
   "execution_count": 12,
   "id": "04bdebe7",
   "metadata": {},
   "outputs": [],
   "source": [
    "ns = len(df_sig.index)"
   ]
  },
  {
   "cell_type": "markdown",
   "id": "0dc998b2",
   "metadata": {},
   "source": [
    "We make an assumption about the sampling rates so add an assert to throw a flag if the assumption proves false. Python stores the sampling frequency as floats so a '==' does not always work. In this example the assert looks for very little difference betwen the two values."
   ]
  },
  {
   "cell_type": "code",
   "execution_count": 13,
   "id": "988b2bf4",
   "metadata": {},
   "outputs": [],
   "source": [
    "assert abs(np_d_fs[0] - np_d_fs[1]) < 1e-15, 'The sampling frequency (fs) must be the same for both data series'"
   ]
  },
  {
   "cell_type": "markdown",
   "id": "90ebea9c",
   "metadata": {},
   "source": [
    "Finally, add the elapsed time to the dataframe"
   ]
  },
  {
   "cell_type": "code",
   "execution_count": 14,
   "id": "0a3ecb74",
   "metadata": {},
   "outputs": [],
   "source": [
    "df_sig['elap_time'] = np.linspace(0,(ns-1),ns)/np_d_fs[0]"
   ]
  },
  {
   "cell_type": "markdown",
   "id": "5b701c60",
   "metadata": {},
   "source": [
    "## Plot the elapsed time data"
   ]
  },
  {
   "cell_type": "code",
   "execution_count": 15,
   "id": "16ac60dc",
   "metadata": {},
   "outputs": [
    {
     "data": {
      "image/png": "[encoded data removed]",
      "text/plain": [
       "<Figure size 640x400 with 1 Axes>"
      ]
     },
     "metadata": {},
     "output_type": "display_data"
    }
   ],
   "source": [
    "df_sig.plot('elap_time', 'CH1')\n",
    "plt.xlabel('Elapsed time, seconds')\n",
    "plt.xlim([min(df_sig.elap_time), max(df_sig.elap_time)])\n",
    "plt.ylabel('Signal value, volts')\n",
    "plt.ylim([-0.5, 0.5])\n",
    "plt.title('CSV data (Elapsed Time)')\n",
    "plt.grid()\n",
    "\n",
    "\n",
    "figure = plt.gcf()\n",
    "figure.set_size_inches(4*1.6, 4)\n",
    "plt.savefig('CSV Visualization_ElapsedTime.pdf')"
   ]
  },
  {
   "cell_type": "markdown",
   "id": "d0899043",
   "metadata": {},
   "source": [
    "## Add a time stamp to the Pandas dataframe"
   ]
  },
  {
   "cell_type": "markdown",
   "id": "7417dc83",
   "metadata": {},
   "source": [
    "This section uses the elapsed time and datetime values to add a timeseries to the data structure. This replaces sample number as the index for the dataframe. "
   ]
  },
  {
   "cell_type": "markdown",
   "id": "7d7e140c",
   "metadata": {},
   "source": [
    "This section assumes the datetimes are the same and checks with an assertion (similar to above)"
   ]
  },
  {
   "cell_type": "code",
   "execution_count": 16,
   "id": "4fab034c",
   "metadata": {},
   "outputs": [],
   "source": [
    "assert dt_csv[0] == dt_csv[1], 'Both datetime stamps must be the same'"
   ]
  },
  {
   "cell_type": "markdown",
   "id": "22bf324b",
   "metadata": {},
   "source": [
    "Create a local lambda function to add the elapsed time in seconds to the base time stamp"
   ]
  },
  {
   "cell_type": "code",
   "execution_count": 17,
   "id": "4f6eb5f8",
   "metadata": {},
   "outputs": [],
   "source": [
    "add_secs = lambda np_sec: [dt_csv[0] + timedelta(seconds=d_sec) for d_sec in np_sec]"
   ]
  },
  {
   "cell_type": "markdown",
   "id": "a358ae2d",
   "metadata": {},
   "source": [
    "Add the datetime list to the dataframe"
   ]
  },
  {
   "cell_type": "code",
   "execution_count": 18,
   "id": "379b2fc6",
   "metadata": {},
   "outputs": [],
   "source": [
    "df_sig['dt']=add_secs(df_sig['elap_time'].to_numpy(dtype=float) )"
   ]
  },
  {
   "cell_type": "markdown",
   "id": "23aba34a",
   "metadata": {},
   "source": [
    "Change the index to our newly created dt series"
   ]
  },
  {
   "cell_type": "code",
   "execution_count": 19,
   "id": "0a6d207d",
   "metadata": {},
   "outputs": [],
   "source": [
    "df_sig = df_sig.set_index('dt')"
   ]
  },
  {
   "cell_type": "markdown",
   "id": "67b4b1da",
   "metadata": {},
   "source": [
    "A quick sanity check to be sure the dataframe looks as we expect"
   ]
  },
  {
   "cell_type": "code",
   "execution_count": 20,
   "id": "3d52222d",
   "metadata": {},
   "outputs": [
    {
     "data": {
      "text/html": [
       "<div>\n",
       "<style scoped>\n",
       "    .dataframe tbody tr th:only-of-type {\n",
       "        vertical-align: middle;\n",
       "    }\n",
       "\n",
       "    .dataframe tbody tr th {\n",
       "        vertical-align: top;\n",
       "    }\n",
       "\n",
       "    .dataframe thead th {\n",
       "        text-align: right;\n",
       "    }\n",
       "</style>\n",
       "<table border=\"1\" class=\"dataframe\">\n",
       "  <thead>\n",
       "    <tr style=\"text-align: right;\">\n",
       "      <th></th>\n",
       "      <th>X</th>\n",
       "      <th>CH1</th>\n",
       "      <th>CH2</th>\n",
       "      <th>elap_time</th>\n",
       "    </tr>\n",
       "    <tr>\n",
       "      <th>dt</th>\n",
       "      <th></th>\n",
       "      <th></th>\n",
       "      <th></th>\n",
       "      <th></th>\n",
       "    </tr>\n",
       "  </thead>\n",
       "  <tbody>\n",
       "    <tr>\n",
       "      <th>2021-12-09 05:36:10.782000-08:00</th>\n",
       "      <td>0</td>\n",
       "      <td>0.05</td>\n",
       "      <td>-0.024</td>\n",
       "      <td>0.000000</td>\n",
       "    </tr>\n",
       "    <tr>\n",
       "      <th>2021-12-09 05:36:10.782766-08:00</th>\n",
       "      <td>1</td>\n",
       "      <td>0.02</td>\n",
       "      <td>0.048</td>\n",
       "      <td>0.000766</td>\n",
       "    </tr>\n",
       "    <tr>\n",
       "      <th>2021-12-09 05:36:10.783532-08:00</th>\n",
       "      <td>2</td>\n",
       "      <td>0.02</td>\n",
       "      <td>-0.008</td>\n",
       "      <td>0.001532</td>\n",
       "    </tr>\n",
       "    <tr>\n",
       "      <th>2021-12-09 05:36:10.784298-08:00</th>\n",
       "      <td>3</td>\n",
       "      <td>0.06</td>\n",
       "      <td>0.064</td>\n",
       "      <td>0.002298</td>\n",
       "    </tr>\n",
       "    <tr>\n",
       "      <th>2021-12-09 05:36:10.785064-08:00</th>\n",
       "      <td>4</td>\n",
       "      <td>0.02</td>\n",
       "      <td>0.136</td>\n",
       "      <td>0.003064</td>\n",
       "    </tr>\n",
       "  </tbody>\n",
       "</table>\n",
       "</div>"
      ],
      "text/plain": [
       "                                  X   CH1    CH2  elap_time\n",
       "dt                                                         \n",
       "2021-12-09 05:36:10.782000-08:00  0  0.05 -0.024   0.000000\n",
       "2021-12-09 05:36:10.782766-08:00  1  0.02  0.048   0.000766\n",
       "2021-12-09 05:36:10.783532-08:00  2  0.02 -0.008   0.001532\n",
       "2021-12-09 05:36:10.784298-08:00  3  0.06  0.064   0.002298\n",
       "2021-12-09 05:36:10.785064-08:00  4  0.02  0.136   0.003064"
      ]
     },
     "execution_count": 20,
     "metadata": {},
     "output_type": "execute_result"
    }
   ],
   "source": [
    "df_sig.head()"
   ]
  },
  {
   "cell_type": "markdown",
   "id": "d1661b66",
   "metadata": {},
   "source": [
    "Although not necessary, it can help to convert the dataframe times to local times for visualization"
   ]
  },
  {
   "cell_type": "code",
   "execution_count": 21,
   "id": "18c8429b",
   "metadata": {},
   "outputs": [],
   "source": [
    "dt_local = df_sig.index.to_pydatetime()"
   ]
  },
  {
   "cell_type": "markdown",
   "id": "9e53df54",
   "metadata": {},
   "source": [
    "## Plot the timeseries data"
   ]
  },
  {
   "cell_type": "code",
   "execution_count": 22,
   "id": "c23f2a8f",
   "metadata": {},
   "outputs": [
    {
     "data": {
      "image/png": "[encoded data removed]",
      "text/plain": [
       "<Figure size 640x400 with 1 Axes>"
      ]
     },
     "metadata": {},
     "output_type": "display_data"
    }
   ],
   "source": [
    "plt.plot(dt_local, df_sig['CH1'])\n",
    "\n",
    "# This changes the formatter.\n",
    "plt.gca().xaxis.set_major_formatter(matplotlib.dates.DateFormatter(\"%Y-%m-%d %H:%M:%S.%f\"))\n",
    "\n",
    "plt.xlabel('Date and time')\n",
    "plt.xlim([min(dt_local), max(dt_local)])\n",
    "plt.xticks(dt_local, rotation = 45)\n",
    "plt.locator_params(axis='x', nbins = 4)\n",
    "\n",
    "plt.ylabel('Signal value, volts')\n",
    "plt.ylim([-0.5, 0.5])\n",
    "plt.title('CSV data (Timeseries)')\n",
    "plt.grid()\n",
    "\n",
    "\n",
    "figure = plt.gcf()\n",
    "figure.set_size_inches(4*1.6, 4)\n",
    "plt.savefig('CSV Visualization_TimeSeries.pdf')"
   ]
  },
  {
   "cell_type": "code",
   "execution_count": null,
   "id": "f3913b72",
   "metadata": {},
   "outputs": [],
   "source": []
  }
 ],
 "metadata": {
  "kernelspec": {
   "display_name": "Python 3 (ipykernel)",
   "language": "python",
   "name": "python3"
  },
  "language_info": {
   "codemirror_mode": {
    "name": "ipython",
    "version": 3
   },
   "file_extension": ".py",
   "mimetype": "text/x-python",
   "name": "python",
   "nbconvert_exporter": "python",
   "pygments_lexer": "ipython3",
   "version": "3.8.16"
  }
 },
 "nbformat": 4,
 "nbformat_minor": 5
}
