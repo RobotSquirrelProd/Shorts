{
 "cells": [
  {
   "cell_type": "markdown",
   "id": "e25ed657",
   "metadata": {},
   "source": [
    "# Timeslice a video in Python"
   ]
  },
  {
   "cell_type": "markdown",
   "id": "ce448f72",
   "metadata": {},
   "source": [
    "More content like this can be found at [robotsquirrelproductions.com](https://robotsquirrelproductions.com/)"
   ]
  },
  {
   "cell_type": "markdown",
   "id": "9ba9df3e",
   "metadata": {},
   "source": [
    "The lines below document the version of python used in this example"
   ]
  },
  {
   "cell_type": "code",
   "execution_count": 1,
   "id": "a9859d45",
   "metadata": {},
   "outputs": [
    {
     "name": "stdout",
     "output_type": "stream",
     "text": [
      "3.8.12 (default, Oct 12 2021, 03:01:40) [MSC v.1916 64 bit (AMD64)]\n"
     ]
    }
   ],
   "source": [
    "import sys\n",
    "print(sys.version)"
   ]
  },
  {
   "cell_type": "markdown",
   "id": "ef8fbe63",
   "metadata": {},
   "source": [
    "The openCV library may not be installed. I use pip to install it in the Jupyter notebook"
   ]
  },
  {
   "cell_type": "code",
   "execution_count": 2,
   "id": "b3f72239",
   "metadata": {},
   "outputs": [],
   "source": [
    "# import sys\n",
    "# !{sys.executable} -m pip install opencv-contrib-python"
   ]
  },
  {
   "cell_type": "markdown",
   "id": "d9df8c60",
   "metadata": {},
   "source": [
    "Import the libraries we need"
   ]
  },
  {
   "cell_type": "code",
   "execution_count": 3,
   "id": "9c4e9ab1",
   "metadata": {},
   "outputs": [],
   "source": [
    "import pandas as pd\n",
    "import csv\n",
    "import matplotlib.pyplot as plt\n",
    "from datetime import datetime\n",
    "import numpy as np\n",
    "import os\n",
    "import cv2"
   ]
  },
  {
   "cell_type": "markdown",
   "id": "6c03422c",
   "metadata": {},
   "source": [
    "Setup the file names"
   ]
  },
  {
   "cell_type": "code",
   "execution_count": 4,
   "id": "681cdad6",
   "metadata": {},
   "outputs": [],
   "source": [
    "str_anim_base = 'BallAnimation';\n",
    "str_out_base = 'BallTimebase';"
   ]
  },
  {
   "cell_type": "markdown",
   "id": "3a9aff66",
   "metadata": {},
   "source": [
    "Define the location of the vertical line used to extract the pixels"
   ]
  },
  {
   "cell_type": "code",
   "execution_count": 5,
   "id": "c29fb6fa",
   "metadata": {},
   "outputs": [],
   "source": [
    "i_col = 499"
   ]
  },
  {
   "cell_type": "markdown",
   "id": "c3bfc783",
   "metadata": {},
   "source": [
    "These steps assemble the frames created by POV-Ray into an animation and create the frames that will be assembled later for the timebase"
   ]
  },
  {
   "cell_type": "code",
   "execution_count": 6,
   "id": "5a4920ef",
   "metadata": {},
   "outputs": [],
   "source": [
    "ls_files = [f for f in os.listdir(os.getcwd()) if os.path.isfile(os.path.join(os.getcwd(), f))]"
   ]
  },
  {
   "cell_type": "code",
   "execution_count": 7,
   "id": "92fcbd06",
   "metadata": {},
   "outputs": [],
   "source": [
    "ls_images = list()\n",
    "for file in ls_files:\n",
    "    if file.endswith(\".png\"):\n",
    "        ls_images.append(file)"
   ]
  },
  {
   "cell_type": "markdown",
   "id": "2b241fa3",
   "metadata": {},
   "source": [
    "Validate list of images"
   ]
  },
  {
   "cell_type": "code",
   "execution_count": 8,
   "id": "6c613649",
   "metadata": {},
   "outputs": [],
   "source": [
    "assert ls_images, 'Failed to find files'\n",
    "n_Images = len(ls_images);"
   ]
  },
  {
   "cell_type": "markdown",
   "id": "adc6251a",
   "metadata": {},
   "source": [
    "Set frame properties for the timebase using the first frame of this animation."
   ]
  },
  {
   "cell_type": "code",
   "execution_count": 9,
   "id": "a276e217",
   "metadata": {},
   "outputs": [
    {
     "data": {
      "image/png": "[encoded data removed]",
      "text/plain": [
       "<Figure size 432x288 with 1 Axes>"
      ]
     },
     "metadata": {
      "needs_background": "light"
     },
     "output_type": "display_data"
    }
   ],
   "source": [
    "d_frame = cv2.imread(ls_images[1]);\n",
    "imgplot = plt.imshow(d_frame)"
   ]
  },
  {
   "cell_type": "markdown",
   "id": "d7268583",
   "metadata": {},
   "source": [
    "Create the empty image frame with a white background for the timebase images"
   ]
  },
  {
   "cell_type": "code",
   "execution_count": 10,
   "id": "e8f1468b",
   "metadata": {},
   "outputs": [],
   "source": [
    "d_timebase = np.ones(np.shape(d_frame), dtype=np.uint8)*255\n",
    "ls_size = d_timebase.shape"
   ]
  },
  {
   "cell_type": "markdown",
   "id": "d5916954",
   "metadata": {},
   "source": [
    "Create the animated video file for the input images"
   ]
  },
  {
   "cell_type": "code",
   "execution_count": 11,
   "id": "b6d5fb84",
   "metadata": {},
   "outputs": [],
   "source": [
    "str_ball = str_anim_base + '.avi';\n",
    "video = cv2.VideoWriter(str_ball, cv2.VideoWriter_fourcc('M','J','P','G'), 30, \n",
    "                        (ls_size[0], ls_size[1]));"
   ]
  },
  {
   "cell_type": "markdown",
   "id": "3e2b9dc4",
   "metadata": {},
   "source": [
    "Create the animated video file for the timebase image"
   ]
  },
  {
   "cell_type": "code",
   "execution_count": 12,
   "id": "144dceae",
   "metadata": {},
   "outputs": [],
   "source": [
    "str_timebase_video = str_out_base + '.avi';\n",
    "video_timebase = cv2.VideoWriter(str_timebase_video, cv2.VideoWriter_fourcc('M','J','P','G'), 30, \n",
    "                        (ls_size[0], ls_size[1]));"
   ]
  },
  {
   "cell_type": "markdown",
   "id": "f0d52062",
   "metadata": {},
   "source": [
    "Number of loops in the animation"
   ]
  },
  {
   "cell_type": "code",
   "execution_count": 13,
   "id": "7200f325",
   "metadata": {},
   "outputs": [],
   "source": [
    "for n_rep in range(3):\n",
    "    \n",
    "    # Operate on each frame\n",
    "    for idx_frame in range(n_Images):\n",
    "        \n",
    "        # Add the frame to ball animations\n",
    "        d_frame = cv2.imread(ls_images[idx_frame]);\n",
    "        video.write(d_frame)\n",
    "        \n",
    "        # For the cube arrangement, it looks best if the pixels shift to\n",
    "        # the right.\n",
    "        d_timebase[:,1:,0] = d_timebase[:,0:-1,0];\n",
    "        d_timebase[:,1:,1] = d_timebase[:,0:-1,1];\n",
    "        d_timebase[:,1:,2] = d_timebase[:,0:-1,2];  \n",
    "        \n",
    "        # Extract the pixels, update the timebase image\n",
    "        d_timebase[:,0,0] = d_frame[:,i_col,0];\n",
    "        d_timebase[:,0,1] = d_frame[:,i_col,1];\n",
    "        d_timebase[:,0,2] = d_frame[:,i_col,2];  \n",
    "        \n",
    "        # Write this new frame to the timebase animation\n",
    "        video_timebase.write(d_timebase)"
   ]
  },
  {
   "cell_type": "markdown",
   "id": "3ceb0943",
   "metadata": {},
   "source": [
    "Plot out the final image as a check on the code"
   ]
  },
  {
   "cell_type": "code",
   "execution_count": 14,
   "id": "81ecca3b",
   "metadata": {},
   "outputs": [
    {
     "data": {
      "image/png": "[encoded data removed]",
      "text/plain": [
       "<Figure size 432x288 with 1 Axes>"
      ]
     },
     "metadata": {
      "needs_background": "light"
     },
     "output_type": "display_data"
    }
   ],
   "source": [
    "imgplot = plt.imshow(d_timebase)"
   ]
  },
  {
   "cell_type": "markdown",
   "id": "5e6508fd",
   "metadata": {},
   "source": [
    "With all the tasks complete, close out the video file."
   ]
  },
  {
   "cell_type": "code",
   "execution_count": 15,
   "id": "c6608dff",
   "metadata": {},
   "outputs": [],
   "source": [
    "video.release()\n",
    "video_timebase.release()"
   ]
  }
 ],
 "metadata": {
  "kernelspec": {
   "display_name": "Python 3 (ipykernel)",
   "language": "python",
   "name": "python3"
  },
  "language_info": {
   "codemirror_mode": {
    "name": "ipython",
    "version": 3
   },
   "file_extension": ".py",
   "mimetype": "text/x-python",
   "name": "python",
   "nbconvert_exporter": "python",
   "pygments_lexer": "ipython3",
   "version": "3.8.12"
  }
 },
 "nbformat": 4,
 "nbformat_minor": 5
}
